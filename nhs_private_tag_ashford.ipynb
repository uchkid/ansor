{
 "cells": [
  {
   "cell_type": "code",
   "execution_count": null,
   "metadata": {},
   "outputs": [],
   "source": [
    "from utils import mysettings\n",
    "als_lab_postcodes_dict = mysettings.ALS_LABS_POSTCODES_DIC\n",
    "als_lab_postcodes_dict"
   ]
  },
  {
   "cell_type": "code",
   "execution_count": 2,
   "metadata": {},
   "outputs": [
    {
     "data": {
      "text/plain": [
       "'data/pre_processed_combined/sales'"
      ]
     },
     "execution_count": 2,
     "metadata": {},
     "output_type": "execute_result"
    }
   ],
   "source": [
    "combine_folder_path = mysettings.COMBINED_FOLDER_PATH\n",
    "combine_folder_path"
   ]
  },
  {
   "cell_type": "code",
   "execution_count": 3,
   "metadata": {},
   "outputs": [],
   "source": [
    "from tqdm import tqdm\n",
    "from pathlib import Path\n",
    "import pandas as pd"
   ]
  },
  {
   "cell_type": "code",
   "execution_count": 4,
   "metadata": {},
   "outputs": [],
   "source": [
    "def split_data(df, column_name):\n",
    "    # Create two DataFrames: one with null values, one without\n",
    "    df_untagged_nhs = df[df[column_name].isnull()]  # Rows where column_name is NULL\n",
    "    df_tagged_nhs = df[df[column_name].notnull()]  # Rows where column_name is NOT NULL\n",
    "\n",
    "    return df_untagged_nhs, df_tagged_nhs"
   ]
  },
  {
   "cell_type": "code",
   "execution_count": 5,
   "metadata": {},
   "outputs": [],
   "source": [
    "def nhs_tag_as_als_lab (df,search_list,column_name):    \n",
    "    if \"practice_name\"  in df.columns:\n",
    "        df[\"practice_name\"] = df[\"practice_name\"].str.lower()\n",
    "        \n",
    "    if \"customer_name\"in df.columns:\n",
    "        df[\"customer_name\"] = df[\"customer_name\"].str.lower()\n",
    "\n",
    "    for substring in search_list:  \n",
    "        if \"practice_name\"  in df.columns:            \n",
    "            df.loc[(df[\"practice_name\"].str.contains(substring, na=False)), column_name] = \"ALS Lab\"\n",
    "        if \"customer_name\"  in df.columns:            \n",
    "            df.loc[(df[\"customer_name\"].str.contains(substring, na=False)), column_name] = \"ALS Lab\"\n",
    "\n",
    "\n",
    "    return split_data(df,column_name)"
   ]
  },
  {
   "cell_type": "code",
   "execution_count": null,
   "metadata": {},
   "outputs": [],
   "source": [
    "def nhs_tag_ashford(df, column_name):\n",
    "        # Add in NHS and private tags from the Ashford prices list\n",
    "        ashford_price_list = mysettings.ASHFORD_PRICE_LIST\n",
    "        ashford_price_list_df = pd.read_excel(ashford_price_list)\n",
    "\n",
    "        ashford_price_list_df[\"ProductID\"] = ashford_price_list_df[\"ProductID\"].astype(str)\n",
    "        df = df.merge(\n",
    "                ashford_price_list_df, left_on=\"product_code\", right_on=\"ProductID\", how=\"left\"\n",
    "        )\n",
    "        df[column_name] = df[column_name].fillna(\n",
    "                df[\"Class\"]\n",
    "        )\n",
    "\n",
    "        df.loc[\n",
    "        df[column_name].isna() == True, column_name] = \"Unknown\"\n",
    "\n",
    "        # Drop extraneous columns\n",
    "        df = df.drop(\n",
    "                columns=[\"ProductID\", \"Description\", \"Price 2024\", \"Class\"]\n",
    "        )\n",
    "\n",
    "        return split_data(df,column_name)"
   ]
  },
  {
   "cell_type": "code",
   "execution_count": 9,
   "metadata": {},
   "outputs": [
    {
     "name": "stderr",
     "output_type": "stream",
     "text": [
      "0it [00:00, ?it/s]"
     ]
    },
    {
     "name": "stdout",
     "output_type": "stream",
     "text": [
      "processing NHS tagging for : data\\pre_processed_combined\\sales\\combined_Ashford.csv\n"
     ]
    },
    {
     "name": "stderr",
     "output_type": "stream",
     "text": [
      "C:\\Users\\Admin\\AppData\\Local\\Temp\\ipykernel_2340\\3739307741.py:6: DtypeWarning: Columns (7) have mixed types. Specify dtype option on import or set low_memory=False.\n",
      "  combined_data_df = pd.read_csv(file)\n"
     ]
    },
    {
     "name": "stdout",
     "output_type": "stream",
     "text": [
      "file level 1 [data\\pre_processed_combined\\sales\\combined_Ashford.csv]Total number 978624 /n untagged [978624] /n tagged [0]\n",
      "file level 2 [data\\pre_processed_combined\\sales\\combined_Ashford.csv]Total number 978624 /n untagged [972657] /n tagged [5967]\n",
      "length of untagged ashford is 972657 while untagged is 0\n"
     ]
    },
    {
     "name": "stderr",
     "output_type": "stream",
     "text": [
      "1it [00:17, 17.13s/it]"
     ]
    },
    {
     "name": "stdout",
     "output_type": "stream",
     "text": [
      "file level 3 [data\\pre_processed_combined\\sales\\combined_Ashford.csv]Total number 972657 /n untagged [171321] /n tagged [801336]\n"
     ]
    },
    {
     "name": "stderr",
     "output_type": "stream",
     "text": [
      "\n"
     ]
    }
   ],
   "source": [
    "combine_folder_path = Path(combine_folder_path)\n",
    "tagged_data_list = []\n",
    "for file in tqdm(combine_folder_path.rglob(\"*\")):\n",
    "        print(f\"processing NHS tagging for : {str(file)}\") \n",
    "        \n",
    "        combined_data_df = pd.read_csv(file)\n",
    "        column_name = \"nhs_or_private\"\n",
    "\n",
    "        if column_name not in combined_data_df.columns:\n",
    "                combined_data_df[column_name] = None\n",
    "\n",
    "        untagged_data, tagged_data =split_data(combined_data_df, column_name)  \n",
    "        print(f\"file level 1 [{file}]Total number {len(combined_data_df)} /n untagged [{len(untagged_data)}] /n tagged [{len(tagged_data)}]\")\n",
    "        # if len(tagged_data) > 0:\n",
    "        #         grouped_df = tagged_data.groupby(column_name).size().reset_index(name=\"count\")\n",
    "        #         print(grouped_df)\n",
    "\n",
    "        total_rows_for_untagged_data = len(untagged_data)\n",
    "        als_names_search_list = mysettings.ALS_NAME_SEARCH_TERM\n",
    "        untagged_data, tagged_data = (nhs_tag_as_als_lab(untagged_data, als_names_search_list, column_name))\n",
    "        print(f\"file level 2 [{file}]Total number {total_rows_for_untagged_data} /n untagged [{len(untagged_data)}] /n tagged [{len(tagged_data)}]\")\n",
    "\n",
    "        #check if untagged data is ashford\n",
    "        total_rows_for_untagged_data = len(untagged_data)\n",
    "        untagged_data_ashford = untagged_data.loc[untagged_data[\"als_lab\"].str.lower() == \"ashford\"]\n",
    "        untagged_data = untagged_data.loc[untagged_data[\"als_lab\"].str.lower() != \"ashford\"]\n",
    "\n",
    "        print (f\"length of untagged ashford is {len(untagged_data_ashford)} while untagged is {len(untagged_data)}\")\n",
    "        if len(untagged_data_ashford) > 0:\n",
    "                untagged_data_ashford, tagged_data = nhs_tag_ashford(untagged_data_ashford, column_name)\n",
    "                untagged_data=pd.concat([untagged_data,untagged_data_ashford])\n",
    "        print(f\"file level 3 [{file}]Total number {total_rows_for_untagged_data} /n untagged [{len(untagged_data)}] /n tagged [{len(tagged_data)}]\")\n",
    "        \n",
    "        \n",
    "\n",
    "\n",
    "        \n"
   ]
  },
  {
   "cell_type": "code",
   "execution_count": null,
   "metadata": {},
   "outputs": [],
   "source": [
    "combined_data_df = pd.read_excel(\"data\\pre_processed_combined\\sales\\Book1.xlsx\")\n",
    "column_name = \"nhs_or_private\"\n",
    "\n",
    "combined_data_df.head(4)"
   ]
  }
 ],
 "metadata": {
  "kernelspec": {
   "display_name": "env",
   "language": "python",
   "name": "python3"
  },
  "language_info": {
   "codemirror_mode": {
    "name": "ipython",
    "version": 3
   },
   "file_extension": ".py",
   "mimetype": "text/x-python",
   "name": "python",
   "nbconvert_exporter": "python",
   "pygments_lexer": "ipython3",
   "version": "3.9.21"
  }
 },
 "nbformat": 4,
 "nbformat_minor": 2
}
